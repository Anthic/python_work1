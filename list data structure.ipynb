{
 "cells": [
  {
   "cell_type": "code",
   "execution_count": 1,
   "id": "c39009fb",
   "metadata": {},
   "outputs": [
    {
     "name": "stdout",
     "output_type": "stream",
     "text": [
      "['bangladesh', 'india', 'sri lanka', 'pakistan', 'nepal', 'afganisthan']\n"
     ]
    }
   ],
   "source": [
    "#use of append()\n",
    "saarc=['bangladesh','india','sri lanka','pakistan','nepal']\n",
    "saarc.append('afganisthan')\n",
    "print(saarc)\n"
   ]
  },
  {
   "cell_type": "code",
   "execution_count": 2,
   "id": "b71c1395",
   "metadata": {},
   "outputs": [
    {
     "name": "stdout",
     "output_type": "stream",
     "text": [
      "['afganisthan', 'bangladesh', 'india', 'nepal', 'pakistan', 'sri lanka']\n"
     ]
    }
   ],
   "source": [
    "saarc.sort()\n",
    "print(saarc)"
   ]
  },
  {
   "cell_type": "code",
   "execution_count": 3,
   "id": "6ecf1e8f",
   "metadata": {},
   "outputs": [
    {
     "name": "stdout",
     "output_type": "stream",
     "text": [
      "[1, 2, 3, 3, 4, 5, 6, 7, 8, 9, 15, 36, 66, 85, 94, 485, 558]\n"
     ]
    }
   ],
   "source": [
    "li=[1,3,5,6,7,15,36,94,85,558,485,66,2,3,4,8,9]\n",
    "li.sort()\n",
    "print(li)"
   ]
  },
  {
   "cell_type": "code",
   "execution_count": 4,
   "id": "798ab026",
   "metadata": {},
   "outputs": [
    {
     "name": "stdout",
     "output_type": "stream",
     "text": [
      "[558, 485, 94, 85, 66, 36, 15, 9, 8, 7, 6, 5, 4, 3, 3, 2, 1]\n"
     ]
    }
   ],
   "source": [
    "li.reverse()\n",
    "print(li)"
   ]
  },
  {
   "cell_type": "code",
   "execution_count": 5,
   "id": "af8da069",
   "metadata": {},
   "outputs": [
    {
     "name": "stdout",
     "output_type": "stream",
     "text": [
      "['afganisthan', 'bangladesh', 'india', 'nepal', 'japan', 'pakistan', 'sri lanka']\n"
     ]
    }
   ],
   "source": [
    "saarc.insert(4,'japan')\n",
    "print(saarc)"
   ]
  },
  {
   "cell_type": "code",
   "execution_count": 6,
   "id": "25ed6ab6",
   "metadata": {},
   "outputs": [
    {
     "data": {
      "text/plain": [
       "['afganisthan', 'bangladesh', 'nepal', 'japan', 'pakistan', 'sri lanka']"
      ]
     },
     "execution_count": 6,
     "metadata": {},
     "output_type": "execute_result"
    }
   ],
   "source": [
    "saarc.remove('india')\n",
    "saarc"
   ]
  },
  {
   "cell_type": "code",
   "execution_count": 7,
   "id": "78bb4aaf",
   "metadata": {},
   "outputs": [
    {
     "name": "stdout",
     "output_type": "stream",
     "text": [
      "pineapple not in list \n"
     ]
    }
   ],
   "source": [
    "#condition remove\n",
    "fruits=['mango','banana','orange']\n",
    "item=('pineapple')\n",
    "if item in fruits:\n",
    "    remove(item)\n",
    "else:\n",
    "    print(item,'not in list ')"
   ]
  },
  {
   "cell_type": "code",
   "execution_count": 8,
   "id": "a5313bb4",
   "metadata": {},
   "outputs": [
    {
     "data": {
      "text/plain": [
       "'orange'"
      ]
     },
     "execution_count": 8,
     "metadata": {},
     "output_type": "execute_result"
    }
   ],
   "source": [
    "fruits=['mango','banana','orange']\n",
    "item=fruits.pop()\n",
    "item"
   ]
  },
  {
   "cell_type": "code",
   "execution_count": 9,
   "id": "0794bec2",
   "metadata": {},
   "outputs": [
    {
     "data": {
      "text/plain": [
       "['mango', 'banana']"
      ]
     },
     "execution_count": 9,
     "metadata": {},
     "output_type": "execute_result"
    }
   ],
   "source": [
    "fruits"
   ]
  },
  {
   "cell_type": "code",
   "execution_count": 10,
   "id": "aafa8a8a",
   "metadata": {},
   "outputs": [
    {
     "data": {
      "text/plain": [
       "2"
      ]
     },
     "execution_count": 10,
     "metadata": {},
     "output_type": "execute_result"
    }
   ],
   "source": [
    "li=[1,3,5,6,7,15,36,94,85,558,485,66,2,3,4,8,9]\n",
    "li.count(3)"
   ]
  },
  {
   "cell_type": "code",
   "execution_count": 12,
   "id": "67d4c2fa",
   "metadata": {},
   "outputs": [
    {
     "name": "stdout",
     "output_type": "stream",
     "text": [
      "[2, 4, 6, 8]\n"
     ]
    }
   ],
   "source": [
    "li=[1,2,3,4]\n",
    "new_li=[]\n",
    "for x in li:\n",
    "    new_li.append(2*x)\n",
    "print(new_li)"
   ]
  },
  {
   "cell_type": "code",
   "execution_count": 4,
   "id": "5b8a4596",
   "metadata": {},
   "outputs": [
    {
     "name": "stdout",
     "output_type": "stream",
     "text": [
      "[2, 4, 20, 14, 6, 8, 30, 12, 16, 46]\n"
     ]
    }
   ],
   "source": [
    "#even number list\n",
    "li=[1,2,5,4,3,20,14,6,9,87,8,30,12,16,45,46]\n",
    "even_li=[]\n",
    "for x in li:\n",
    "    if x%2==0:\n",
    "        even_li.append(x)     \n",
    "print(even_li)\n",
    "    "
   ]
  },
  {
   "cell_type": "code",
   "execution_count": null,
   "id": "6f5931d2",
   "metadata": {},
   "outputs": [],
   "source": []
  },
  {
   "cell_type": "code",
   "execution_count": null,
   "id": "861091b1",
   "metadata": {},
   "outputs": [],
   "source": []
  }
 ],
 "metadata": {
  "kernelspec": {
   "display_name": "Python 3 (ipykernel)",
   "language": "python",
   "name": "python3"
  },
  "language_info": {
   "codemirror_mode": {
    "name": "ipython",
    "version": 3
   },
   "file_extension": ".py",
   "mimetype": "text/x-python",
   "name": "python",
   "nbconvert_exporter": "python",
   "pygments_lexer": "ipython3",
   "version": "3.9.12"
  }
 },
 "nbformat": 4,
 "nbformat_minor": 5
}
