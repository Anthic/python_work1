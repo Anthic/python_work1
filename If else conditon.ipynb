{
 "cells": [
  {
   "cell_type": "markdown",
   "id": "a2a06785",
   "metadata": {},
   "source": [
    "# if else condition"
   ]
  },
  {
   "cell_type": "code",
   "execution_count": null,
   "id": "29b7fc66",
   "metadata": {},
   "outputs": [],
   "source": [
    "x = 50\n",
    "y= 100\n",
    "if x>y:\n",
    "    print(\"positive number\")\n",
    "elif y>x:\n",
    "    print(\"negative number\")\n",
    "else :\n",
    "    print (\"out\")"
   ]
  },
  {
   "cell_type": "code",
   "execution_count": null,
   "id": "bb65ef7c",
   "metadata": {},
   "outputs": [],
   "source": [
    "#programe check if the number  positive or negative \n",
    "num= int(input(\"enter your number :\"))\n",
    "if num>=0:\n",
    "    print(\"positive number\")\n",
    "else:\n",
    "    print(\"negative\")"
   ]
  },
  {
   "cell_type": "code",
   "execution_count": null,
   "id": "70db04fb",
   "metadata": {},
   "outputs": [],
   "source": [
    "# A company decided to give bonous 5% to employee if he/she year of service is more than 5 year asked for their salaery and year of service and print the bonous amount \n",
    "\n",
    "salary= float(input(\"enter your salary :\"))\n",
    "yos= float(input(\"enter your yos :\"))\n",
    "if yos>5:\n",
    "    print(\"Bonous is\", 0.05*salary)\n",
    "else:\n",
    "    print(\"No Bonous\")"
   ]
  },
  {
   "cell_type": "code",
   "execution_count": null,
   "id": "42be85a9",
   "metadata": {},
   "outputs": [],
   "source": [
    "#take a length and breath of ractangle and check if is square or not\n",
    "length = float(input(\"enter length :\"))\n",
    "breath = float(input(\"enter breath :\"))\n",
    "if length==breath:\n",
    "    print(\"yes,it is square\")\n",
    "else:\n",
    "    print(\"No,it is not\")"
   ]
  },
  {
   "cell_type": "code",
   "execution_count": null,
   "id": "46bca5c9",
   "metadata": {},
   "outputs": [],
   "source": [
    "#result calculation \n",
    "marks= float(input(\"enter your mark :\"))\n",
    "if marks<25:\n",
    "    print(\"F\")\n",
    "elif marks>=25 and marks<45:\n",
    "    print(\"E\")\n",
    "elif marks>=45 and marks<50:\n",
    "    print(\"D\")\n",
    "elif marks>=50 and marks<60:\n",
    "    print(\"C\")\n",
    "elif marks>=60 and marks<80:\n",
    "    print(\"B\")\n",
    "elif marks>=80:\n",
    "    print(\"A\")"
   ]
  },
  {
   "cell_type": "markdown",
   "id": "e24abc7f",
   "metadata": {},
   "source": [
    "# turtle practise\n"
   ]
  },
  {
   "cell_type": "code",
   "execution_count": null,
   "id": "54edeb22",
   "metadata": {},
   "outputs": [],
   "source": []
  },
  {
   "cell_type": "code",
   "execution_count": null,
   "id": "c2d94080",
   "metadata": {},
   "outputs": [],
   "source": []
  },
  {
   "cell_type": "code",
   "execution_count": null,
   "id": "c2009310",
   "metadata": {},
   "outputs": [],
   "source": []
  }
 ],
 "metadata": {
  "kernelspec": {
   "display_name": "Python 3 (ipykernel)",
   "language": "python",
   "name": "python3"
  },
  "language_info": {
   "codemirror_mode": {
    "name": "ipython",
    "version": 3
   },
   "file_extension": ".py",
   "mimetype": "text/x-python",
   "name": "python",
   "nbconvert_exporter": "python",
   "pygments_lexer": "ipython3",
   "version": "3.9.12"
  }
 },
 "nbformat": 4,
 "nbformat_minor": 5
}
