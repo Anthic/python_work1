{
 "cells": [
  {
   "cell_type": "code",
   "execution_count": 1,
   "id": "268a7699",
   "metadata": {},
   "outputs": [
    {
     "data": {
      "text/plain": [
       "tuple"
      ]
     },
     "execution_count": 1,
     "metadata": {},
     "output_type": "execute_result"
    }
   ],
   "source": [
    "x=(1,2,3)\n",
    "type(x)"
   ]
  },
  {
   "cell_type": "code",
   "execution_count": 2,
   "id": "eb301950",
   "metadata": {},
   "outputs": [
    {
     "data": {
      "text/plain": [
       "int"
      ]
     },
     "execution_count": 2,
     "metadata": {},
     "output_type": "execute_result"
    }
   ],
   "source": [
    "x=1\n",
    "type(x)"
   ]
  },
  {
   "cell_type": "code",
   "execution_count": 3,
   "id": "1f73c50d",
   "metadata": {},
   "outputs": [
    {
     "data": {
      "text/plain": [
       "tuple"
      ]
     },
     "execution_count": 3,
     "metadata": {},
     "output_type": "execute_result"
    }
   ],
   "source": [
    "x=1,\n",
    "type(x)"
   ]
  },
  {
   "cell_type": "code",
   "execution_count": 5,
   "id": "23cdee9e",
   "metadata": {},
   "outputs": [
    {
     "name": "stdout",
     "output_type": "stream",
     "text": [
      "1 <class 'int'>\n",
      "3 <class 'int'>\n",
      "2.3 <class 'float'>\n",
      "('sumon', 'rasel', 'jahid') <class 'tuple'>\n",
      "['mango', 'banana'] <class 'list'>\n"
     ]
    }
   ],
   "source": [
    "items=(1,3,2.3,(\"sumon\",\"rasel\",\"jahid\"),[\"mango\",\"banana\"])\n",
    "for item in items:\n",
    "    print(item,type(item))"
   ]
  },
  {
   "cell_type": "code",
   "execution_count": 7,
   "id": "23fb2812",
   "metadata": {},
   "outputs": [
    {
     "name": "stdout",
     "output_type": "stream",
     "text": [
      "please input your roll6\n",
      "your mark is 64\n"
     ]
    }
   ],
   "source": [
    "marks=(77,76,65,78,62,64,60,77,75,79)\n",
    "roll= input('please input your roll')\n",
    "print(\"your mark is\",marks[int(roll)-1])"
   ]
  },
  {
   "cell_type": "code",
   "execution_count": 8,
   "id": "52a40b03",
   "metadata": {},
   "outputs": [
    {
     "data": {
      "text/plain": [
       "dict"
      ]
     },
     "execution_count": 8,
     "metadata": {},
     "output_type": "execute_result"
    }
   ],
   "source": [
    "#better way\n",
    "marks={1:60,2:69,3:55}\n",
    "type(marks)"
   ]
  },
  {
   "cell_type": "code",
   "execution_count": 9,
   "id": "b5d87d27",
   "metadata": {},
   "outputs": [
    {
     "data": {
      "text/plain": [
       "69"
      ]
     },
     "execution_count": 9,
     "metadata": {},
     "output_type": "execute_result"
    }
   ],
   "source": [
    "marks[2]"
   ]
  },
  {
   "cell_type": "code",
   "execution_count": 10,
   "id": "316ec838",
   "metadata": {},
   "outputs": [
    {
     "name": "stdout",
     "output_type": "stream",
     "text": [
      "{'bangla': 96, 'english': 90}\n"
     ]
    }
   ],
   "source": [
    "marks={\"st20032\":{\"bangla\":87,\"english\":89},\"st20033\":{\"bangla\":96,\"english\":90}}\n",
    "print(marks[\"st20033\"])"
   ]
  },
  {
   "cell_type": "code",
   "execution_count": 11,
   "id": "13fd01c3",
   "metadata": {},
   "outputs": [],
   "source": [
    "bd_division_info={}\n",
    "bd_division_info[\"Barisal\"]={\"district\":6,\"upazila\":39,\"union\":333}\n",
    "bd_division_info[\"Chittagong\"]={\"district\":11,\"upazila\":97,\"union\":336}\n",
    "bd_division_info[\"Dhaka\"]={\"district\":13,\"upazila\":93,\"union\":1833}\n",
    "bd_division_info[\"Khula\"]={\"district\":10,\"upazila\":59,\"union\":270}\n",
    "bd_division_info[\"Mymensingh\"]={\"district\":4,\"upazila\":34,\"union\":350}\n",
    "bd_division_info[\"Rajshai\"]={\"district\":8,\"upazila\":70,\"union\":558}\n",
    "bd_division_info[\"Rangpur\"]={\"district\":8,\"upazila\":58,\"union\":536}\n",
    "bd_division_info[\"Sylhet\"]={\"district\":4,\"upazila\":38,\"union\":334}"
   ]
  },
  {
   "cell_type": "code",
   "execution_count": 12,
   "id": "aaaacaac",
   "metadata": {},
   "outputs": [
    {
     "name": "stdout",
     "output_type": "stream",
     "text": [
      "{'Barisal': {'district': 6, 'upazila': 39, 'union': 333}, 'Chittagong': {'district': 11, 'upazila': 97, 'union': 336}, 'Dhaka': {'district': 13, 'upazila': 93, 'union': 1833}, 'Khula': {'district': 10, 'upazila': 59, 'union': 270}, 'Mymensingh': {'district': 4, 'upazila': 34, 'union': 350}, 'Rajshai': {'district': 8, 'upazila': 70, 'union': 558}, 'Rangpur': {'district': 8, 'upazila': 58, 'union': 536}, 'Sylhet': {'district': 4, 'upazila': 38, 'union': 334}}\n"
     ]
    }
   ],
   "source": [
    "print(bd_division_info)"
   ]
  },
  {
   "cell_type": "code",
   "execution_count": 15,
   "id": "f02d94ad",
   "metadata": {},
   "outputs": [
    {
     "name": "stdout",
     "output_type": "stream",
     "text": [
      "dict_keys(['Barisal', 'Chittagong', 'Dhaka', 'Khula', 'Mymensingh', 'Rajshai', 'Rangpur', 'Sylhet'])\n"
     ]
    }
   ],
   "source": [
    "divisions=bd_division_info.keys()\n",
    "print(divisions)"
   ]
  },
  {
   "cell_type": "code",
   "execution_count": 16,
   "id": "4999a39f",
   "metadata": {},
   "outputs": [
    {
     "name": "stdout",
     "output_type": "stream",
     "text": [
      "Division Barisal\n",
      "Division Chittagong\n",
      "Division Dhaka\n",
      "Division Khula\n",
      "Division Mymensingh\n",
      "Division Rajshai\n",
      "Division Rangpur\n",
      "Division Sylhet\n"
     ]
    }
   ],
   "source": [
    "for division in divisions:\n",
    "    print(\"Division\",division)"
   ]
  },
  {
   "cell_type": "code",
   "execution_count": null,
   "id": "ba0028b7",
   "metadata": {},
   "outputs": [],
   "source": []
  }
 ],
 "metadata": {
  "kernelspec": {
   "display_name": "Python 3 (ipykernel)",
   "language": "python",
   "name": "python3"
  },
  "language_info": {
   "codemirror_mode": {
    "name": "ipython",
    "version": 3
   },
   "file_extension": ".py",
   "mimetype": "text/x-python",
   "name": "python",
   "nbconvert_exporter": "python",
   "pygments_lexer": "ipython3",
   "version": "3.9.12"
  }
 },
 "nbformat": 4,
 "nbformat_minor": 5
}
