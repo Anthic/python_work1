{
 "cells": [
  {
   "cell_type": "code",
   "execution_count": null,
   "id": "24cbccd9",
   "metadata": {},
   "outputs": [],
   "source": [
    "import turtle\n",
    "turtle.forward(100)\n",
    "turtle.exitonclick()"
   ]
  },
  {
   "cell_type": "code",
   "execution_count": null,
   "id": "abe3d81b",
   "metadata": {},
   "outputs": [],
   "source": [
    "import turtle \n",
    "turtle.shape(\"turtle\")\n",
    "turtle.speed(2)\n",
    "\n",
    "for i in range(4):\n",
    "    turtle.forward(300)\n",
    "    turtle.(120)\n",
    "   \n",
    "\n",
    "turtle.exitonclick"
   ]
  },
  {
   "cell_type": "markdown",
   "id": "c365bb55",
   "metadata": {},
   "source": [
    "# loop practise"
   ]
  },
  {
   "cell_type": "code",
   "execution_count": 2,
   "id": "4ffafb06",
   "metadata": {},
   "outputs": [
    {
     "name": "stdout",
     "output_type": "stream",
     "text": [
      "50\n"
     ]
    }
   ],
   "source": [
    "result=0\n",
    "for i in range(50):\n",
    "    result=result+1\n",
    "print(result)"
   ]
  },
  {
   "cell_type": "code",
   "execution_count": null,
   "id": "95efc5a7",
   "metadata": {},
   "outputs": [],
   "source": []
  },
  {
   "cell_type": "code",
   "execution_count": null,
   "id": "23a84033",
   "metadata": {},
   "outputs": [],
   "source": []
  }
 ],
 "metadata": {
  "kernelspec": {
   "display_name": "Python 3 (ipykernel)",
   "language": "python",
   "name": "python3"
  },
  "language_info": {
   "codemirror_mode": {
    "name": "ipython",
    "version": 3
   },
   "file_extension": ".py",
   "mimetype": "text/x-python",
   "name": "python",
   "nbconvert_exporter": "python",
   "pygments_lexer": "ipython3",
   "version": "3.9.12"
  }
 },
 "nbformat": 4,
 "nbformat_minor": 5
}
